{
 "cells": [
  {
   "cell_type": "code",
   "execution_count": null,
   "id": "a6b150a4",
   "metadata": {},
   "outputs": [],
   "source": [
    "pip install selenium\n",
    "pip install webdriver_manager\n",
    "pip install webdriver"
   ]
  },
  {
   "cell_type": "code",
   "execution_count": 40,
   "id": "39714ea0",
   "metadata": {},
   "outputs": [],
   "source": [
    "import csv\n",
    "from bs4 import BeautifulSoup\n",
    "from selenium import webdriver\n",
    "import pandas as pd"
   ]
  },
  {
   "cell_type": "code",
   "execution_count": 41,
   "id": "ded35a8a",
   "metadata": {},
   "outputs": [],
   "source": [
    "\n",
    "def get_url(search_term):\n",
    "    template = 'https://www.amazon.com/s?k={}&ref=nb_sb_noss_2'\n",
    "    search_term = search_term.replace(\" \", \"+\")\n",
    "    url = template + '&page={}'\n",
    "    return url.format(search_term, '{}')\n",
    "\n",
    "\n"
   ]
  },
  {
   "cell_type": "code",
   "execution_count": 42,
   "id": "00c7bb3e",
   "metadata": {},
   "outputs": [],
   "source": [
    "def extract_record(item):\n",
    "    atag = item.h2.a\n",
    "    description = atag.text.strip()\n",
    "    new_url = 'https://www.amazon.com' + atag.get('href')\n",
    "\n",
    "    try:\n",
    "        price_parent = item.find('span', 'a-price')\n",
    "        price = price_parent.find('span', 'a-offscreen').text\n",
    "    except AttributeError:\n",
    "        return\n",
    "\n",
    "    try:\n",
    "        rating = item.i.text\n",
    "        review_count = item.find('span', {'class': 'a-size-base'}).text\n",
    "    except AttributeError:\n",
    "        rating = \"\"\n",
    "        review_count = \"\"\n",
    "\n",
    "    result = (description, price, rating, review_count, new_url)\n",
    "\n",
    "    return result\n"
   ]
  },
  {
   "cell_type": "code",
   "execution_count": 43,
   "id": "0bb57ae5",
   "metadata": {},
   "outputs": [
    {
     "name": "stderr",
     "output_type": "stream",
     "text": [
      "/var/folders/r0/p8v4mr5s7h52zmndncz336vh0000gn/T/ipykernel_39095/1358841838.py:3: DeprecationWarning: executable_path has been deprecated, please pass in a Service object\n",
      "  driver = webdriver.Chrome(ChromeDriverManager().install())\n"
     ]
    },
    {
     "name": "stdout",
     "output_type": "stream",
     "text": [
      "Enter the Keyword:perfume\n",
      "Done\n"
     ]
    }
   ],
   "source": [
    "def main():\n",
    "    from webdriver_manager.chrome import ChromeDriverManager\n",
    "    driver = webdriver.Chrome(ChromeDriverManager().install())\n",
    "\n",
    "    search_term = input('Enter the Keyword:')\n",
    "    record = []\n",
    "\n",
    "    url = get_url(search_term)\n",
    "\n",
    "    for page in range(1, 21):\n",
    "        driver.get(url.format(page))\n",
    "        soup = BeautifulSoup(driver.page_source, 'html.parser')\n",
    "        results = soup.find_all('div', {'data-component-type': 's-search-result'})\n",
    "\n",
    "        for item in results:\n",
    "            u = extract_record(item)\n",
    "            if u:\n",
    "                record.append(u)\n",
    "\n",
    "    driver.close()\n",
    "\n",
    "    with open(\"Productlists.csv\", 'w', newline=\"\", encoding='utf-8') as f:\n",
    "        writer = csv.writer(f)\n",
    "        writer.writerow(['Description', 'Price', 'Rating', 'ReviewCount', 'URL'])\n",
    "        writer.writerows(record)\n",
    "\n",
    "    print('Done')\n",
    "\n",
    "# Call the main function to execute the code\n",
    "main()\n"
   ]
  },
  {
   "cell_type": "code",
   "execution_count": null,
   "id": "6bc79d15",
   "metadata": {},
   "outputs": [],
   "source": []
  }
 ],
 "metadata": {
  "kernelspec": {
   "display_name": "Python 3 (ipykernel)",
   "language": "python",
   "name": "python3"
  },
  "language_info": {
   "codemirror_mode": {
    "name": "ipython",
    "version": 3
   },
   "file_extension": ".py",
   "mimetype": "text/x-python",
   "name": "python",
   "nbconvert_exporter": "python",
   "pygments_lexer": "ipython3",
   "version": "3.10.9"
  }
 },
 "nbformat": 4,
 "nbformat_minor": 5
}
